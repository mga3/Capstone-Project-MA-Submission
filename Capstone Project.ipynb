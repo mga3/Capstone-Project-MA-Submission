{
 "cells": [
  {
   "cell_type": "markdown",
   "id": "f3968181",
   "metadata": {},
   "source": [
    "# Capstone Project"
   ]
  },
  {
   "cell_type": "markdown",
   "id": "2a698b07",
   "metadata": {},
   "source": [
    "### Author: Maximilian Ayling \n",
    "### Project Submission - Emeritus Imperial College Business Analytics: From Data to Decisions\n",
    "#### (To go alongside .ppt presentation)"
   ]
  },
  {
   "cell_type": "markdown",
   "id": "d143ddb8",
   "metadata": {},
   "source": [
    "The HeartSafe problem can be regarded as an optimisation problem with 2 degrees of freedom (DOF) $x,y$, where we are trying to maximise the function for total profit:\n",
    "\n",
    "$$25x+30y,$$\n",
    "\n",
    "subject to the following constraint:\n",
    "\n",
    "$$\\frac{x}{200}+\\frac{y}{140} \\leq 40.$$\n",
    "\n",
    "Additionally, each DOF is an integer contained within the bounds:\n",
    "$$ 0.0 \\leq x \\leq 6000,$$\n",
    "$$ 0.0 \\leq y \\leq 4000,$$\n",
    "\n",
    "We choose the initial condition,  $i_0$, to be origin: \n",
    "$$i_0 = [0.0,0.0].$$\n",
    "\n",
    "Note that because we have 2 DOF, the origin is also defined to have 2 points."
   ]
  },
  {
   "cell_type": "markdown",
   "id": "bbb025fb",
   "metadata": {},
   "source": [
    "## Using Python to solve an optimisation problem:\n"
   ]
  },
  {
   "cell_type": "markdown",
   "id": "60c5c754",
   "metadata": {},
   "source": [
    "To solve the optimisation problem I will use `SciPy optimize` as it provides functions for minimising objective functions, subject to constraints."
   ]
  },
  {
   "cell_type": "code",
   "execution_count": 1,
   "id": "4da5cb54",
   "metadata": {},
   "outputs": [],
   "source": [
    "#Import the SciPy optimize function:\n",
    "from scipy.optimize import minimize"
   ]
  },
  {
   "cell_type": "markdown",
   "id": "4c62242c",
   "metadata": {},
   "source": [
    "### Defining the Objective Function:"
   ]
  },
  {
   "cell_type": "markdown",
   "id": "c13e978d",
   "metadata": {},
   "source": [
    "Note, maximising $25x+30y$ is equivalent to minimising $-25x-30y$."
   ]
  },
  {
   "cell_type": "code",
   "execution_count": 2,
   "id": "2a164a8c",
   "metadata": {},
   "outputs": [],
   "source": [
    "def objective_fun(x):\n",
    "    return -25*x[0] - 30*x[1]"
   ]
  },
  {
   "cell_type": "markdown",
   "id": "a0bc7cb8",
   "metadata": {},
   "source": [
    "### Defining the constraints:"
   ]
  },
  {
   "attachments": {},
   "cell_type": "markdown",
   "id": "f2764e61",
   "metadata": {},
   "source": [
    "The constraint $\\frac{X}{200}+\\frac{Y}{140} \\leq 40$ can be rearranged to a form constraints are taken in SciPy:\n",
    "\n",
    "$40-\\frac{X}{200}-\\frac{Y}{140} \\geq 0$ "
   ]
  },
  {
   "cell_type": "code",
   "execution_count": 3,
   "id": "aeb4207f",
   "metadata": {},
   "outputs": [],
   "source": [
    "def constraint1(x):\n",
    "    return 40-x[0]/200-x[1]/140"
   ]
  },
  {
   "cell_type": "markdown",
   "id": "bf958708",
   "metadata": {},
   "source": [
    "This constraint is an inequality, so define it as such using a dictionary:"
   ]
  },
  {
   "cell_type": "code",
   "execution_count": 4,
   "id": "26ceceff",
   "metadata": {},
   "outputs": [],
   "source": [
    "con1 = {\"type\": \"ineq\", \"fun\" : constraint1}"
   ]
  },
  {
   "cell_type": "markdown",
   "id": "cda11f2c",
   "metadata": {},
   "source": [
    "And add this constraint into a list (so other constraints can be added more easily in future):"
   ]
  },
  {
   "cell_type": "code",
   "execution_count": 5,
   "id": "b4f2802a",
   "metadata": {},
   "outputs": [],
   "source": [
    "cons=[con1]"
   ]
  },
  {
   "cell_type": "markdown",
   "id": "4dc02601",
   "metadata": {},
   "source": [
    "### Define the bounds:"
   ]
  },
  {
   "cell_type": "markdown",
   "id": "62697059",
   "metadata": {},
   "source": [
    "Define tuples for the bounds of type x and type y devices:"
   ]
  },
  {
   "cell_type": "code",
   "execution_count": 6,
   "id": "b594217b",
   "metadata": {},
   "outputs": [],
   "source": [
    "b_0 = (0.0, 6000.0)\n",
    "b_1 = (0.0, 4000.0)\n",
    "bnds = (b_0,b_1)"
   ]
  },
  {
   "cell_type": "markdown",
   "id": "82785f71",
   "metadata": {},
   "source": [
    "### Initial Guess:"
   ]
  },
  {
   "cell_type": "code",
   "execution_count": 7,
   "id": "af377e9d",
   "metadata": {},
   "outputs": [],
   "source": [
    "i_0 = [0,0]"
   ]
  },
  {
   "cell_type": "markdown",
   "id": "1bd375e1",
   "metadata": {},
   "source": [
    "### Solve the optimisation problem:"
   ]
  },
  {
   "cell_type": "code",
   "execution_count": 8,
   "id": "8e16200a",
   "metadata": {},
   "outputs": [],
   "source": [
    "sol = minimize(objective_fun,  i_0, method='SLSQP', bounds = bnds, constraints = cons)"
   ]
  },
  {
   "cell_type": "markdown",
   "id": "0c9dd0bb",
   "metadata": {},
   "source": [
    "### Visualise the solution:"
   ]
  },
  {
   "cell_type": "code",
   "execution_count": 9,
   "id": "1635bf0b",
   "metadata": {},
   "outputs": [
    {
     "name": "stdout",
     "output_type": "stream",
     "text": [
      " message: Optimization terminated successfully\n",
      " success: True\n",
      "  status: 0\n",
      "     fun: -192000.00000110743\n",
      "       x: [ 6.000e+03  1.400e+03]\n",
      "     nit: 14\n",
      "     jac: [-2.500e+01 -3.000e+01]\n",
      "    nfev: 63\n",
      "    njev: 14\n"
     ]
    }
   ],
   "source": [
    "print(sol)"
   ]
  },
  {
   "cell_type": "markdown",
   "id": "1bc3f1b8",
   "metadata": {},
   "source": [
    "### Understanding the Solution:"
   ]
  },
  {
   "cell_type": "code",
   "execution_count": 43,
   "id": "c2f65872",
   "metadata": {},
   "outputs": [
    {
     "name": "stdout",
     "output_type": "stream",
     "text": [
      "To maximise weekly profits subject to the constraint of working hours,  6000 Type X devices and 1400 Type Y devices a week should be manufactured.\n"
     ]
    }
   ],
   "source": [
    "print('To maximise weekly profits subject to the constraint of working hours, ',round(sol['x'][0]), 'Type X devices '\n",
    "     'and',round(sol['x'][1]), 'Type Y devices a week should be manufactured.' )"
   ]
  },
  {
   "cell_type": "markdown",
   "id": "7ad6999a",
   "metadata": {},
   "source": [
    "### Sense check:"
   ]
  },
  {
   "cell_type": "markdown",
   "id": "427fd052",
   "metadata": {},
   "source": [
    "The maximum number of Type X devices to make a week is 6000, so the maximum number of Type X devices is being made. The maximum number of Type Y devices to make a week is 4000. The optimal solution here makes 1400 Type Y devices, 2600 less per week than the maximum number of Type Y devices made per week. \n",
    "\n",
    "Finding the optimal solution is a balance between selling more of the device that has a higher profit per device (Type Y) and making the highest total number of devices per week. Looking at the solution, it turns out the balance is heavily towards maximising the highest total number of devices per week. This can be seen by the above - the maximum number of Type X devices is being made, and it is not possible to reduce Type X by one and increase Type Y by one as rate constraint would not be satisfied. To satisfy the rate constraint and increase the number of Type Y devices by one, a few less Type X devices would need to be made, which the optimal solution shows is less profitable. \n",
    "\n",
    "The optimal solution recommends the machine running for 30 hours making Type X devices and 10 hours making Type Y devices.\n",
    "\n"
   ]
  },
  {
   "cell_type": "markdown",
   "id": "f1ae05e8",
   "metadata": {},
   "source": [
    "### Conclusion:"
   ]
  },
  {
   "attachments": {},
   "cell_type": "markdown",
   "id": "bb6a0828",
   "metadata": {},
   "source": [
    "First Q:\n",
    "\n",
    "Is it feasible to produce any type of device and sell them? \n",
    "\n",
    "Answer:\n",
    "\n",
    "The production machine is operable for 40 hours a week and has the capability to produce Type X and Type Y devices. I have assumed we have access to no other machines to produce any other type of device. Type X devices sell for \\\\$25 a unit and Type Y devices sell for \\\\$30 a unit. \n",
    "\n",
    "\n",
    "Second Q:\n",
    "\n",
    "Is it better to produce only one type of device or both? If you decide to produce \n",
    "both, in what proportion should each be produced? \n",
    "\n",
    "Answer:\n",
    "\n",
    "6000 devices is the weekly maximum production limit (due to person hours and capacity of specialists) for Type X. They can be made at a rate of 200 per hour. Making only Type X devices until the maximum production limit would take 30 hours, which leaves 10 hours spare for the machine to make Type Y devices.\n",
    "Similarly, 4000 devices is the maximum production limit for Type Y. They can be made at a rate of 140 per hour. Making only Type Y devices until the maximum production limit would take 28.6 (1.d.p) hours, which leaves 11.4 hours spare for the machine to make Type X devices.Therefore, with a machine working for 40 hours a week it is possible to manufacture both types of device. The machine should work for the full 40 hours a week, as each device will sell for either \\\\$25 or \\\\$30 a unit. Therefore, you should produce both devices each week.\n",
    "To calculate the proportion of each, I have solved an optimisation problem that balances between selling more of the device that has a higher profit per device (Type Y) and making the highest total number of devices per week. The solution, and therefore my recommendation to the board, is: "
   ]
  },
  {
   "cell_type": "code",
   "execution_count": 45,
   "id": "0e800308",
   "metadata": {},
   "outputs": [
    {
     "name": "stdout",
     "output_type": "stream",
     "text": [
      "To maximise weekly profits subject to the constraint of working hours, 6000 Type X devices and 1400 Type Y devices a week should be manufactured.\n"
     ]
    }
   ],
   "source": [
    "print('To maximise weekly profits subject to the constraint of working hours,',round(sol['x'][0]), 'Type X devices '\n",
    "     'and',round(sol['x'][1]), 'Type Y devices a week should be manufactured.' )"
   ]
  },
  {
   "cell_type": "markdown",
   "id": "a629f5b9",
   "metadata": {},
   "source": [
    "### Maximum Profit:"
   ]
  },
  {
   "cell_type": "markdown",
   "id": "6a1191a5",
   "metadata": {},
   "source": [
    "Third Q:\n",
    "\n",
    "Calculate the final profit of the production of devices. \n",
    "\n",
    "Answer:\n",
    "\n",
    "This can be found from the negative (as I solved the problem by minimising the negative of the objective function) of the objective function value:"
   ]
  },
  {
   "cell_type": "code",
   "execution_count": 51,
   "id": "fdaf6a56",
   "metadata": {},
   "outputs": [
    {
     "name": "stdout",
     "output_type": "stream",
     "text": [
      "The maximum weekly profit is  $ 192000\n"
     ]
    }
   ],
   "source": [
    "print('The maximum weekly profit is  $', -round(sol['fun']))"
   ]
  },
  {
   "attachments": {},
   "cell_type": "markdown",
   "id": "43a0ae41",
   "metadata": {},
   "source": [
    "Fourth Q:\n",
    "\n",
    "Include in your analysis:\n",
    "\n",
    "-\twhat would happen if your product presents any defects, \n",
    "\n",
    "-\thow to compete in a market that is new for you,\n",
    "\n",
    "-\twhat you would do if you overproduce devices,\n",
    "\n",
    "-\twhat you would do if they undersell\n",
    "\n",
    "\n",
    "Answer:\n",
    "\n",
    "If one of the Type Y devices present a defect, they cannot be sold. A likely Acceptable Quality Level (AQL) for this product is 2.5% (see link) https://www.investopedia.com/terms/a/acceptable-quality-level-aql.asp#:~:text=The%20AQL%20for%20major%20defects,1 . 1400 Type Y devices a week in the optimal solution means we can expect 35 Type Y devices to present defects. This reduces the maximum weekly profit by \n",
    "\n",
    "\\\\$35 per device * 30 devices = \\\\$900.\n",
    "\n",
    "Additionally, as this is a new product there may be a lag time to bringing Type Y devices to market when compared to Type X devices. This is due to prototyping and approval through standard health regulation structures, as well as setting up new production and distribution lines. The business may want to consider therefore reducing the initial number of Type Y devices to produce until these intial processes are complete. If the business were to reduce Type Y production, I would recommend hiring temporary Type X production specialists. This would increase the weekly production limit of Type X and mean the business can use the machine to manufacture more total devices per week, increasing weekly total profits.\n",
    "\n",
    "Alternatively, the specialists that no longer need to produce Type Y devices initially could be repurposed to focus on marketing to help sell this product in a market that goes beyond the heart rate monitoring provided by Type X devices and opens up the market for devices which can detect the early onset of a variety of medical issues including fainting, COPD and hypoxia.\n",
    "\n",
    "If too many Type Y devices are produced, consider not selling the extra products to avoid saturating the market. Use the extra devices to test experimental features and further improve the product, or consider offering these products as an incentive for the Type Y specialist team for working hard and overproducing, which would improve employee satisfaction.\n",
    "\n",
    "If Type Y devices undersell, consider investing profits from Type X device sales into market research for the Type Y devices.\n",
    "\n",
    "\n",
    "\n",
    "\n"
   ]
  },
  {
   "cell_type": "markdown",
   "id": "2586b546",
   "metadata": {},
   "source": [
    "### Graphing the Solution Space:"
   ]
  },
  {
   "cell_type": "code",
   "execution_count": 60,
   "id": "643ee64a",
   "metadata": {},
   "outputs": [],
   "source": [
    "import matplotlib.pyplot as plt\n",
    "import numpy as np"
   ]
  },
  {
   "attachments": {},
   "cell_type": "markdown",
   "id": "534d4078",
   "metadata": {},
   "source": [
    "The objective here is to plot the three constraints on a Type Y device vs Type X device plot, to highlight an area which would satisfy the three constraints (and therefore justify a solution must exist).\n",
    "\n",
    "First, note again the three constraints:\n",
    "\n",
    "$$\\frac{x}{200}+\\frac{y}{140} \\leq 40.$$\n",
    "\n",
    "Additionally, each DOF is an integer contained within the bounds:\n",
    "$$ 0.0 \\leq x \\leq 6000,$$\n",
    "$$ 0.0 \\leq y \\leq 4000.$$\n",
    "\n",
    "The first inequality can be drawn by plotting a line representing all Type X and Type Y values that correspond to using the machinery for the maximum 40 hours a day. The solution space would then be all values closer to the origin than this line. Expressing this line in the straight line form:\n",
    "$$y= -\\frac{140x}{200}+5600. $$\n",
    "\n",
    "The other inequalities on the plot will be straight lines:\n",
    "$$x=6000, $$\n",
    "$$y=4000. $$\n",
    "\n",
    "Plotting these three lines, green, red and blue respectively, produces:"
   ]
  },
  {
   "cell_type": "code",
   "execution_count": 99,
   "id": "396aed2d",
   "metadata": {},
   "outputs": [
    {
     "data": {
      "image/png": "[encoded data removed]",
      "text/plain": [
       "<Figure size 640x480 with 1 Axes>"
      ]
     },
     "metadata": {},
     "output_type": "display_data"
    }
   ],
   "source": [
    "x=np.linspace(0,7000,7001)\n",
    "plt.axhline(y = 4000, color='b')\n",
    "plt.axvline(x = 6000,color='r')\n",
    "plt.axvline(x = 0.,color='k')\n",
    "plt.axhline(y=0.,color='k')\n",
    "plt.plot(x,(-140*x)/200+5600,color='g')\n",
    "plt.title('Type Y vs Type X Devices')\n",
    "plt.xlabel(' Type X Devices / #')\n",
    "plt.ylabel(' Type Y Devices / #')\n",
    "plt.show()"
   ]
  }
 ],
 "metadata": {
  "kernelspec": {
   "display_name": "Python 3 (ipykernel)",
   "language": "python",
   "name": "python3"
  },
  "language_info": {
   "codemirror_mode": {
    "name": "ipython",
    "version": 3
   },
   "file_extension": ".py",
   "mimetype": "text/x-python",
   "name": "python",
   "nbconvert_exporter": "python",
   "pygments_lexer": "ipython3",
   "version": "3.10.9"
  }
 },
 "nbformat": 4,
 "nbformat_minor": 5
}
